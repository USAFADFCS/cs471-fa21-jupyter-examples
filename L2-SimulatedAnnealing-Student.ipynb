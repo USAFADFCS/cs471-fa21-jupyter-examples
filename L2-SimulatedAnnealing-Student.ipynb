{
 "cells": [
  {
   "cell_type": "markdown",
   "metadata": {},
   "source": [
    "# Simulated Annealing"
   ]
  },
  {
   "cell_type": "markdown",
   "metadata": {},
   "source": [
    "In this notebook we will implement the simulated annealing algorithm and test on a simple optimization problem.  The first thing we will create is the class to hold the candidate solutions. \n",
    "\n",
    "The below class will allow you to store, copy, and print a candidate solution.  \n",
    "\n",
    "Q1) What type (bool, integer, float) of solutions does this class implement?\n",
    "\n",
    "Q2) What are the specific attributes that this class stores?"
   ]
  },
  {
   "cell_type": "code",
   "execution_count": 1,
   "metadata": {},
   "outputs": [],
   "source": [
    "import random\n",
    "import math\n",
    "\n",
    "class Candidate:\n",
    "    \"\"\"\n",
    "    Stores, prints, copies, and mutates potential solutions\n",
    "    \"\"\"\n",
    "    def __init__(self, size, variable_range):\n",
    "        self.items = []\n",
    "        self.variable_range = variable_range\n",
    "        for i in range(size):\n",
    "            self.items.append(random.uniform(-variable_range, variable_range))\n",
    "    \"\"\"\n",
    "    Prints out the candidate (genotype) to a string\n",
    "    \"\"\"\n",
    "    def __str__(self):\n",
    "        return str([str(item) for item in self.items])\n",
    "    \n",
    "    \"\"\"\n",
    "    Performs and returns a deep-copy of a candidate solution\n",
    "    \"\"\"\n",
    "    def copy(self):\n",
    "        newSolution = Candidate(len(self.items), self.variable_range)\n",
    "        newSolution.items = self.items.copy()\n",
    "        return newSolution"
   ]
  },
  {
   "cell_type": "markdown",
   "metadata": {},
   "source": [
    "Next we need to create our objective function.  For this notebook, we will use a simple objective function called objective sphere.  Objective sphere attempts to minimize the squared sum of the candidate solution.\n",
    "\n",
    "Q3) What is the optimal solution for this objective sphere problem?"
   ]
  },
  {
   "cell_type": "code",
   "execution_count": 2,
   "metadata": {},
   "outputs": [],
   "source": [
    "def objective_sphere(proposed):\n",
    "    \"\"\"\n",
    "    Minimizes the sum of the squared terms of the vector\n",
    "    \"\"\"\n",
    "    val = 0\n",
    "    for x in proposed.items:\n",
    "        val += x*x\n",
    "    return val"
   ]
  },
  {
   "cell_type": "markdown",
   "metadata": {},
   "source": [
    "Q4) Next, implement a greedy algorithm to get a sense of its effectiveness."
   ]
  },
  {
   "cell_type": "code",
   "execution_count": 18,
   "metadata": {},
   "outputs": [],
   "source": [
    "def greedy(candidate, obj_function):\n",
    "    \"\"\"\n",
    "    Conducts a greedy search of candidates to find the min\n",
    "    \"\"\"\n",
    "    i = 0\n",
    "    candidate = Candidate(10,5)\n",
    "    cost = obj_function(candidate)\n",
    "    while i <= items_per_epoch:\n",
    "        # Implement a greedy algorithm to randomly explore potential solutions\n",
    "        newCandidate = Candidate(10,5)\n",
    "        newCost = obj_function(candidate)\n",
    "        if newCost < cost:\n",
    "            cost = newCost\n",
    "            candidate = Candidate.copy(newCandidate)\n",
    "            print(\"New Candidate\")\n",
    "            print(candidate, \"=> Objective Value = \", objective_function(candidate))\n",
    "            i += 1\n",
    "    return candidate, cost"
   ]
  },
  {
   "cell_type": "markdown",
   "metadata": {},
   "source": [
    "Next, let's create a standard execution template to format the output of our algorithm and objective function."
   ]
  },
  {
   "cell_type": "code",
   "execution_count": 19,
   "metadata": {},
   "outputs": [],
   "source": [
    "def optimize(candidate, algorithm, objective_function):\n",
    "    \"\"\"\n",
    "    Main execution body for optimizing the objective function\n",
    "    \"\"\"\n",
    "    soln = candidate.copy()\n",
    "    print(\"Initial\")\n",
    "    print(soln, \" = > Objective Value = \", objective_function(soln)) \n",
    "    result = algorithm(soln, objective_function)\n",
    "    print()\n",
    "    print(\"Result\")\n",
    "    print(result[0], \" = > Objective Value = \", result[1]) "
   ]
  },
  {
   "cell_type": "markdown",
   "metadata": {},
   "source": [
    "Now time to set up some global variables to help our execution.  These are called meta-parameters.  The three meta-parameters we will instantiate will control the number of items updated each epoch (items_per_epoch), minimum temperature for our Simulated Annealing algorithm (min_temperature), and the annealing cooling rate (cooling_rate).\n",
    "\n",
    "We can also create our original candidate solution with parameters of candidate_size (how many values in the vector), and candidate_range (the +/- range for each value)."
   ]
  },
  {
   "cell_type": "code",
   "execution_count": 20,
   "metadata": {},
   "outputs": [],
   "source": [
    "items_per_epoch = 100\n",
    "min_temperature = 0.000001\n",
    "cooling_rate = 0.9\n",
    "candidate_size = 20\n",
    "candidate_range = 10\n",
    "original_candidate = Candidate(candidate_size, candidate_range)"
   ]
  },
  {
   "cell_type": "markdown",
   "metadata": {},
   "source": [
    "Finally, let's run the greedy algorithm against the objective_sphere problem to see it's effectiveness."
   ]
  },
  {
   "cell_type": "code",
   "execution_count": null,
   "metadata": {},
   "outputs": [
    {
     "name": "stdout",
     "output_type": "stream",
     "text": [
      "Initial\n",
      "['0.706344567872577', '-4.319928570516447', '8.999898814436246', '-4.4988768389714355', '1.2359803452502565', '3.958300899649398', '-3.336423093070218', '-1.8849154403844004', '-2.4268583642790142', '-0.6498426723202915', '2.330056880275757', '3.9534068558807753', '8.8208301736659', '4.5594601600972755', '2.5628047385069443', '9.449999940578198', '4.7778928877221425', '7.873224905812158', '-5.07538761295206', '5.409391259112278']  = > Objective Value =  513.9529165258436\n"
     ]
    }
   ],
   "source": [
    "optimize(original_candidate, greedy, objective_sphere)"
   ]
  },
  {
   "cell_type": "markdown",
   "metadata": {},
   "source": [
    "The greedy algorithm will result in a variety of outputs that could range from great to abysmal as it is all random chance.\n",
    "\n",
    "\n",
    "Next let's build the Simulated Annealing algorithm.  \n",
    "\n",
    "Q5) First, implement the mutation operator.  This changes a single element of the candidate solution to a random value."
   ]
  },
  {
   "cell_type": "code",
   "execution_count": null,
   "metadata": {},
   "outputs": [],
   "source": [
    "def Mutate(candidate):\n",
    "    \"\"\"\n",
    "    Take a candidate object and returns the object with a single value changed\n",
    "    \"\"\"\n",
    "    # Implement your mutation method here.  The algorithm should select some random element\n",
    "    # from the candidate array and change it into a random number between \n",
    "    #-candidate.variable_range and +candidate.variable_range\n",
    "    mutationValue = floor(random.uniform(0,candidate_size))\n",
    "    print(\"The random cadidate value that will be mutated is: \",mutationValue)\n",
    "    print(\"The candidate value prior to mutation is: \", cadidate.items[mutationValue])\n",
    "    #Try to mutate the value\n",
    "    cadidate.items[mutationValue] = uniform.random(-candidate_range, cadidate_range)\n",
    "    print(\"The new cadidate value is: \" candidate.items[mutationValue])\n",
    "    return candidate"
   ]
  },
  {
   "cell_type": "markdown",
   "metadata": {},
   "source": [
    "A key function of our simulated annealing algorithm is the acceptance probability.  Mathematically, this probability is:\n",
    "\n",
    "$$e^{\\frac{\\Delta E}{T}}$$\n",
    "\n",
    "where ${\\Delta E}$ is the change in the objective function (old - new) and ${T}$ is the current Temperature.  \n",
    "\n",
    "Q6) Update the below function to calculate the correct acceptance probability:"
   ]
  },
  {
   "cell_type": "code",
   "execution_count": 8,
   "metadata": {},
   "outputs": [],
   "source": [
    "def acceptance_probability(old_cost, new_cost, T):\n",
    "   value = 1 # Change this to calculate the acceptance probability\n",
    "   if value > 100: return 0 # protects against overflow on exp\n",
    "   return math.exp(value)"
   ]
  },
  {
   "cell_type": "markdown",
   "metadata": {},
   "source": [
    "Q7) It is finally time to create the overall simulated annealing function.  The pseudocode is below:\n",
    "\n",
    "anneal(candidate, obj_function):\n",
    "\n",
    "    T = 1.0\n",
    "    old_cost = evaluation(candidate)\n",
    "    while T > minimum_temperature:\n",
    "        for i = 0 to items_per_epoch:\n",
    "            new_solution = Mutate(candidate) # make sure you are not changing candidate itself\n",
    "            new_cost = evaluation(new_solution)\n",
    "            acceptance = acceptance_probability(old_cost, new_cost, T)\n",
    "            \n",
    "            if (acceptance > random):\n",
    "                candidate = new_solution\n",
    "                old_cost = new_cost\n",
    "        T = T * cooling_rate\n",
    "\n",
    "return candidate, old_cost\n",
    "            "
   ]
  },
  {
   "cell_type": "code",
   "execution_count": 9,
   "metadata": {},
   "outputs": [],
   "source": [
    "def anneal(candidate, obj_function):\n",
    "    \"\"\"\n",
    "    Simulated Annealing algorithm\n",
    "    \"\"\"\n",
    "    # Implement your SA algorithm here\n",
    "    cost = 9999 #replace when run\n",
    "    \n",
    "    return candidate, cost"
   ]
  },
  {
   "cell_type": "markdown",
   "metadata": {},
   "source": [
    "Now try running your simulated annealing algorithm.  How does it compare with the greedy algorithm?"
   ]
  },
  {
   "cell_type": "code",
   "execution_count": 10,
   "metadata": {},
   "outputs": [
    {
     "name": "stdout",
     "output_type": "stream",
     "text": [
      "Initial\n",
      "['3.776731229418232', '1.2291643593308859', '-7.647732472774416', '-4.89722627737514', '-2.0209174207531273', '9.69486377826599', '3.174654673993217', '-1.921060876943697', '7.3749198305831385', '2.4318826753242213', '-0.47189073089914046', '5.111536280924689', '-9.356386592025219', '6.665694397594379', '-4.048064018235166', '5.003544063405993', '-9.31436565308994', '-6.632919383837315', '9.264037787648618', '0.8339687356327197']  = > Objective Value =  687.4092133549773\n",
      "\n",
      "Result\n",
      "['3.776731229418232', '1.2291643593308859', '-7.647732472774416', '-4.89722627737514', '-2.0209174207531273', '9.69486377826599', '3.174654673993217', '-1.921060876943697', '7.3749198305831385', '2.4318826753242213', '-0.47189073089914046', '5.111536280924689', '-9.356386592025219', '6.665694397594379', '-4.048064018235166', '5.003544063405993', '-9.31436565308994', '-6.632919383837315', '9.264037787648618', '0.8339687356327197']  = > Objective Value =  9999\n"
     ]
    }
   ],
   "source": [
    "optimize(original_candidate, anneal, objective_sphere)"
   ]
  }
 ],
 "metadata": {
  "kernelspec": {
   "display_name": "Python 3",
   "language": "python",
   "name": "python3"
  },
  "language_info": {
   "codemirror_mode": {
    "name": "ipython",
    "version": 3
   },
   "file_extension": ".py",
   "mimetype": "text/x-python",
   "name": "python",
   "nbconvert_exporter": "python",
   "pygments_lexer": "ipython3",
   "version": "3.8.5"
  }
 },
 "nbformat": 4,
 "nbformat_minor": 2
}
